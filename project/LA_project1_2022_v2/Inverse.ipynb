{
 "cells": [
  {
   "cell_type": "code",
   "execution_count": 1,
   "id": "72b5eff1",
   "metadata": {},
   "outputs": [
    {
     "name": "stdout",
     "output_type": "stream",
     "text": [
      "原矩阵：\n",
      " [[12.26005049 -3.67729707 -1.19053259  1.54496239  2.69009661]\n",
      " [ 4.27437626  6.9162511   1.07460466 -0.63832698 -4.10655273]\n",
      " [ 2.61130883 -2.90868386 14.21650739 -0.85925095 -4.54817992]\n",
      " [-1.50606478  3.6175164  -3.30743118 12.56171253 -0.41198703]\n",
      " [ 0.90654519  2.1233391   1.65273598  0.50447263 13.93856827]]\n",
      "\n",
      "\n",
      "变换后的矩阵 A：\n",
      " [[ 1.00000000e+00  0.00000000e+00  0.00000000e+00  8.94527950e-18\n",
      "   0.00000000e+00]\n",
      " [ 3.76971374e-18  1.00000000e+00  0.00000000e+00  3.76971374e-18\n",
      "   0.00000000e+00]\n",
      " [ 3.03973028e-18  0.00000000e+00  1.00000000e+00  3.03973028e-18\n",
      "   0.00000000e+00]\n",
      " [-6.75917132e-20  0.00000000e+00  0.00000000e+00  1.00000000e+00\n",
      "   0.00000000e+00]\n",
      " [ 7.04004680e-18  0.00000000e+00  0.00000000e+00  7.04004680e-18\n",
      "   1.00000000e+00]]\n",
      "\n",
      "\n",
      "逆矩阵 I：\n",
      " [[ 0.06682112  0.03956215  0.00130671 -0.00607866 -0.00099382]\n",
      " [-0.03564967  0.10574503 -0.01318275  0.00749268  0.03395456]\n",
      " [-0.01787511  0.00693197  0.06653328  0.00600219  0.02737946]\n",
      " [ 0.01366023 -0.02449461  0.02124999  0.07816021 -0.00060881]\n",
      " [ 0.00270986 -0.01861721 -0.00673492 -0.00428657  0.0634111 ]]\n",
      "\n",
      "\n",
      "验证 a 与变换后的 I 互为逆矩阵\n",
      "[[ 1.00000000e+00  2.84281926e-17 -1.07165787e-17  1.16564107e-17\n",
      "  -1.41953284e-17]\n",
      " [-5.60191330e-17  1.00000000e+00 -1.34632979e-18 -9.25789752e-18\n",
      "   4.72717307e-17]\n",
      " [ 3.50377189e-19  3.32125444e-17  1.00000000e+00 -9.80864988e-18\n",
      "  -3.35029238e-17]\n",
      " [-8.77541311e-17  7.54437133e-17 -6.85164477e-17  1.00000000e+00\n",
      "  -1.20469815e-19]\n",
      " [-1.55595070e-17  1.95519152e-17 -9.34148489e-18  1.70691526e-18\n",
      "   1.00000000e+00]]\n"
     ]
    }
   ],
   "source": [
    "import numpy as np\n",
    "\n",
    "n = 5\n",
    "a = np.random.rand(n,n)*10-5 + np.eye(n)*10\n",
    "I = np.eye(n)\n",
    "\n",
    "A = a.copy()\n",
    "\n",
    "for i in range(n):\n",
    "  if A[i][i] == 0.0:\n",
    "    sys.exit('Divide by zero detected!')\n",
    "      \n",
    "  for j in range(n):\n",
    "    if i != j:\n",
    "      ratio = A[j][i]/A[i][i]\n",
    "\n",
    "      for k in range(n):\n",
    "        A[j][k] = A[j][k] - ratio * A[i][k]\n",
    "        I[j][k] = I[j][k] - ratio * I[i][k]\n",
    "\n",
    "for i in range(n):\n",
    "  divisor = A[i][i]\n",
    "  for j in range(n):\n",
    "    A[i][j] = A[i][j]/divisor\n",
    "    I[i][j] = I[i][j]/divisor\n",
    "\n",
    "print('原矩阵：\\r\\n',a)\n",
    "print('\\r\\n')\n",
    "\n",
    "print('变换后的矩阵 A：\\r\\n',A)\n",
    "print('\\r\\n')\n",
    "\n",
    "print('逆矩阵 I：\\r\\n',I)\n",
    "print('\\r\\n')\n",
    "\n",
    "print('验证 a 与变换后的 I 互为逆矩阵')\n",
    "print(a @ I)"
   ]
  },
  {
   "cell_type": "code",
   "execution_count": 2,
   "id": "dfecf552",
   "metadata": {},
   "outputs": [
    {
     "data": {
      "text/plain": [
       "0.0"
      ]
     },
     "execution_count": 2,
     "metadata": {},
     "output_type": "execute_result"
    }
   ],
   "source": [
    "a=float(1)\n",
    "b=float(0)\n",
    "b/a"
   ]
  },
  {
   "cell_type": "code",
   "execution_count": null,
   "id": "c315424a",
   "metadata": {},
   "outputs": [],
   "source": []
  }
 ],
 "metadata": {
  "kernelspec": {
   "display_name": "Python 3 (ipykernel)",
   "language": "python",
   "name": "python3"
  },
  "language_info": {
   "codemirror_mode": {
    "name": "ipython",
    "version": 3
   },
   "file_extension": ".py",
   "mimetype": "text/x-python",
   "name": "python",
   "nbconvert_exporter": "python",
   "pygments_lexer": "ipython3",
   "version": "3.10.4"
  }
 },
 "nbformat": 4,
 "nbformat_minor": 5
}
