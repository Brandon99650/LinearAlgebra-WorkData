{
 "cells": [
  {
   "cell_type": "markdown",
   "metadata": {},
   "source": [
    "Numpy学习——数组填充np.pad()函数的应用"
   ]
  },
  {
   "cell_type": "code",
   "execution_count": 1,
   "metadata": {},
   "outputs": [],
   "source": [
    "import numpy as np"
   ]
  },
  {
   "cell_type": "markdown",
   "metadata": {},
   "source": [
    "1.1 常数填充模式——’constant'"
   ]
  },
  {
   "cell_type": "code",
   "execution_count": 2,
   "metadata": {},
   "outputs": [
    {
     "data": {
      "text/plain": [
       "array([[95, 96],\n",
       "       [97, 98]])"
      ]
     },
     "execution_count": 2,
     "metadata": {},
     "output_type": "execute_result"
    }
   ],
   "source": [
    "A = np.arange(95,99).reshape(2,2)    #原始输入数组\n",
    "A"
   ]
  },
  {
   "cell_type": "code",
   "execution_count": 3,
   "metadata": {},
   "outputs": [
    {
     "data": {
      "text/plain": [
       "array([[ 0,  0,  0,  0,  0,  0,  0],\n",
       "       [ 0,  0,  0,  0,  0,  0,  0],\n",
       "       [ 0,  0,  0,  0,  0,  0,  0],\n",
       "       [ 0,  0, 95, 96,  0,  0,  0],\n",
       "       [ 0,  0, 97, 98,  0,  0,  0],\n",
       "       [ 0,  0,  0,  0,  0,  0,  0],\n",
       "       [ 0,  0,  0,  0,  0,  0,  0]])"
      ]
     },
     "execution_count": 3,
     "metadata": {},
     "output_type": "execute_result"
    }
   ],
   "source": [
    "np.pad(A,((3,2),(2,3)),'constant',constant_values = (0,0))"
   ]
  },
  {
   "cell_type": "markdown",
   "metadata": {},
   "source": [
    "1.在数组A的边缘填充constant_values指定的数值\n",
    "2.（3,2）表示在A的第[0]轴填充（二维数组中，0轴表示行），即在0轴前面填充3个宽度的0，比如数组A中的95,96两个元素前面各填充了3个0；在后面填充2个0，比如数组A中的97,98两个元素后面各填充了2个0\n",
    "3.（2,3）表示在A的第[1]轴填充（二维数组中，1轴表示列），即在1轴前面填充2个宽度的0，后面填充3个宽度的0"
   ]
  },
  {
   "cell_type": "code",
   "execution_count": 4,
   "metadata": {},
   "outputs": [
    {
     "data": {
      "text/plain": [
       "array([[-2, -2, -2, -2,  2,  2,  2],\n",
       "       [-2, -2, -2, -2,  2,  2,  2],\n",
       "       [-2, -2, -2, -2,  2,  2,  2],\n",
       "       [-2, -2, 95, 96,  2,  2,  2],\n",
       "       [-2, -2, 97, 98,  2,  2,  2],\n",
       "       [-2, -2,  2,  2,  2,  2,  2],\n",
       "       [-2, -2,  2,  2,  2,  2,  2]])"
      ]
     },
     "execution_count": 4,
     "metadata": {},
     "output_type": "execute_result"
    }
   ],
   "source": [
    "#填充时，从前面轴，往后面轴依次填充\n",
    "np.pad(A,((3,2),(2,3)),'constant',constant_values = (-2,2))   #填充值，前面填充改为-2，后面填充改为2"
   ]
  },
  {
   "cell_type": "code",
   "execution_count": 5,
   "metadata": {},
   "outputs": [
    {
     "data": {
      "text/plain": [
       "array([[ 1,  1,  0,  0,  2,  2,  2],\n",
       "       [ 1,  1,  0,  0,  2,  2,  2],\n",
       "       [ 1,  1,  0,  0,  2,  2,  2],\n",
       "       [ 1,  1, 95, 96,  2,  2,  2],\n",
       "       [ 1,  1, 97, 98,  2,  2,  2],\n",
       "       [ 1,  1,  0,  0,  2,  2,  2],\n",
       "       [ 1,  1,  0,  0,  2,  2,  2]])"
      ]
     },
     "execution_count": 5,
     "metadata": {},
     "output_type": "execute_result"
    }
   ],
   "source": [
    "np.pad(A,((3,2),(2,3)),'constant',constant_values = ((0,0),(1,2)))    #0轴和1轴分别填充不同的值，先填充0轴，后填充1轴，存在1轴填充覆盖0轴填充的情形"
   ]
  },
  {
   "cell_type": "markdown",
   "metadata": {},
   "source": [
    "1.2 边缘值填充模式——’edge'"
   ]
  },
  {
   "cell_type": "code",
   "execution_count": 6,
   "metadata": {},
   "outputs": [
    {
     "data": {
      "text/plain": [
       "array([[1, 2],\n",
       "       [3, 4]])"
      ]
     },
     "execution_count": 6,
     "metadata": {},
     "output_type": "execute_result"
    }
   ],
   "source": [
    "B = np.arange(1,5).reshape(2,2)  #原始输入数组\n",
    "B"
   ]
  },
  {
   "cell_type": "code",
   "execution_count": 7,
   "metadata": {},
   "outputs": [
    {
     "data": {
      "text/plain": [
       "array([[1, 1, 1, 2, 2],\n",
       "       [1, 1, 1, 2, 2],\n",
       "       [3, 3, 3, 4, 4],\n",
       "       [3, 3, 3, 4, 4],\n",
       "       [3, 3, 3, 4, 4]])"
      ]
     },
     "execution_count": 7,
     "metadata": {},
     "output_type": "execute_result"
    }
   ],
   "source": [
    "np.pad(B,((1,2),(2,1)),'edge')   #注意先填充0轴，后面填充1轴，依次填充"
   ]
  },
  {
   "cell_type": "markdown",
   "metadata": {},
   "source": [
    "1.3 边缘最大值填充模式——’maximum’"
   ]
  },
  {
   "cell_type": "code",
   "execution_count": 8,
   "metadata": {},
   "outputs": [
    {
     "data": {
      "text/plain": [
       "array([[1, 2],\n",
       "       [3, 4]])"
      ]
     },
     "execution_count": 8,
     "metadata": {},
     "output_type": "execute_result"
    }
   ],
   "source": [
    "B = np.arange(1,5).reshape(2,2)  #原始输入数组\n",
    "B"
   ]
  },
  {
   "cell_type": "code",
   "execution_count": 9,
   "metadata": {},
   "outputs": [
    {
     "data": {
      "text/plain": [
       "array([[4, 4, 3, 4, 4],\n",
       "       [2, 2, 1, 2, 2],\n",
       "       [4, 4, 3, 4, 4],\n",
       "       [4, 4, 3, 4, 4],\n",
       "       [4, 4, 3, 4, 4]])"
      ]
     },
     "execution_count": 9,
     "metadata": {},
     "output_type": "execute_result"
    }
   ],
   "source": [
    "np.pad(B,((1,2),(2,1)),'maximum')   "
   ]
  },
  {
   "cell_type": "code",
   "execution_count": 10,
   "metadata": {},
   "outputs": [
    {
     "data": {
      "text/plain": [
       "array([[0, 1, 2],\n",
       "       [3, 4, 5],\n",
       "       [6, 7, 8]])"
      ]
     },
     "execution_count": 10,
     "metadata": {},
     "output_type": "execute_result"
    }
   ],
   "source": [
    "C = np.arange(0,9).reshape(3,3)  #原始输入数组\n",
    "C"
   ]
  },
  {
   "cell_type": "code",
   "execution_count": 11,
   "metadata": {},
   "outputs": [
    {
     "data": {
      "text/plain": [
       "array([[8, 8, 6, 7, 8, 8],\n",
       "       [8, 8, 6, 7, 8, 8],\n",
       "       [8, 8, 6, 7, 8, 8],\n",
       "       [2, 2, 0, 1, 2, 2],\n",
       "       [5, 5, 3, 4, 5, 5],\n",
       "       [8, 8, 6, 7, 8, 8],\n",
       "       [8, 8, 6, 7, 8, 8],\n",
       "       [8, 8, 6, 7, 8, 8]])"
      ]
     },
     "execution_count": 11,
     "metadata": {},
     "output_type": "execute_result"
    }
   ],
   "source": [
    "np.pad(C,((3,2),(2,1)),'maximum')  "
   ]
  }
 ],
 "metadata": {
  "kernelspec": {
   "display_name": "Python 3.10.4 ('py')",
   "language": "python",
   "name": "python3"
  },
  "language_info": {
   "codemirror_mode": {
    "name": "ipython",
    "version": 3
   },
   "file_extension": ".py",
   "mimetype": "text/x-python",
   "name": "python",
   "nbconvert_exporter": "python",
   "pygments_lexer": "ipython3",
   "version": "3.10.4"
  },
  "orig_nbformat": 4,
  "vscode": {
   "interpreter": {
    "hash": "22216b08ebab8be3394fec349c00ce696f41ecd13338106d20d108b8649c16c1"
   }
  }
 },
 "nbformat": 4,
 "nbformat_minor": 2
}
