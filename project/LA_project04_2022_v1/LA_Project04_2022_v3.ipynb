{
 "cells": [
  {
   "cell_type": "code",
   "execution_count": 2,
   "id": "687ebfc4",
   "metadata": {},
   "outputs": [
    {
     "name": "stdout",
     "output_type": "stream",
     "text": [
      "λ =  2.8284271247461885 \tp1 =  [-0.15622986  0.68963195 -0.37717224 -0.59811462]\n",
      "λ =  2.2360679774997902 \tp2 =  [ 0.69455348 -0.13264791  0.42925766  0.56190557]\n",
      "λ =  -2.828427124746192 \tp3 =  [-0.37717224  0.59811462  0.15622986  0.68963195]\n",
      "λ =  -2.23606797749979 \tp4 =  [ 0.42925766 -0.56190557 -0.69455348 -0.13264791]\n",
      "\n",
      "P =\n",
      " [[-0.15622986  0.69455348 -0.37717224  0.42925766]\n",
      " [ 0.68963195 -0.13264791  0.59811462 -0.56190557]\n",
      " [-0.37717224  0.42925766  0.15622986 -0.69455348]\n",
      " [-0.59811462  0.56190557  0.68963195 -0.13264791]]\n",
      "\n",
      "P^(-1) =\n",
      " [[ 0.75434448  1.06680419 -0.31245971 -0.44188477]\n",
      " [ 1.25645904  0.56190557  0.29660975  0.13264791]\n",
      " [-0.31245971  0.44188477 -0.75434448  1.06680419]\n",
      " [ 0.29660975 -0.13264791 -1.25645904  0.56190557]]\n",
      "\n",
      "D =\n",
      " [[ 2.82842712 -0.         -0.          0.        ]\n",
      " [-0.          2.23606798 -0.          0.        ]\n",
      " [ 0.          0.         -2.82842712 -0.        ]\n",
      " [ 0.         -0.          0.         -2.23606798]]\n",
      "\n",
      "A^100 =\n",
      " [[ 8.88281511e+34 -4.75749231e+44  4.75749231e+44 -4.75749231e+44]\n",
      " [ 4.75749231e+44  1.42724769e+45 -9.51498462e+44  4.75749231e+44]\n",
      " [-4.75749231e+44 -4.75749231e+44  8.88074640e+34  4.75749231e+44]\n",
      " [-9.51498462e+44 -4.75749231e+44 -4.75749231e+44  1.42724769e+45]]\n"
     ]
    }
   ],
   "source": [
    "#### Linear Algebra_Project04_2022\n",
    "# Problem: Diagnalization\n",
    "\n",
    "import numpy as np\n",
    "from numpy.linalg import eig\n",
    "\n",
    "#A = np.array([(1, 0, 0, 0), (0, -2, 0, 0),(0, 0, 2, 0), (0, 0, 0, 3)])\n",
    "A = np.array([(1, 1, 1, 1), (2, 1, -1, -2),(1, -1, -1, 1), (1, -2, 2, -1)])\n",
    "\n",
    "# STEP1: find eigenvalues, eigenvectors and matrix P\n",
    "eigValue, eigVector = eig(A)\n",
    "for i in range(0, 4):\n",
    "    print(\"λ = \", eigValue[i], f\"\\tp{i + 1}\", \"= \", eigVector.T[i])\n",
    "P = eigVector\n",
    "print(\"\\nP =\\n\",P)\n",
    "\n",
    "# STEP2: find the inverse of matrix P\n",
    "I = np.identity(4)\n",
    "TMP = P.copy()\n",
    "for i in range(4):\n",
    "    # Introduce a leading 1    \n",
    "    # Check if there's zero in main diagonal\n",
    "    for d in range(i, 4): \n",
    "        head = TMP[d][d]\n",
    "        if(head == 0):\n",
    "            c = 1\n",
    "            # Find the nonzero leading element\n",
    "            while (d + c < 4) and (TMP[d + c][d] == 0):\n",
    "                c += 1\n",
    "                \n",
    "            # Matrix is singular\n",
    "            if(d + c == 4):\n",
    "                sys.exit(\"matrix not invertible\")  \n",
    "            \n",
    "            # Interchange\n",
    "            TMP[[d, d + c]] = TMP[[d + c, d]]\n",
    "            I[[d, d + c]] = I[[d + c, d]]\n",
    "\n",
    "    head = TMP[i][i]\n",
    "    for j in range(4):\n",
    "        TMP[i][j] = TMP[i][j] / head\n",
    "        I[i][j] = I[i][j] / head\n",
    "\n",
    "    # Foward phase      \n",
    "    for j in range(i + 1, 4):\n",
    "        ratio = TMP[j][i] / TMP[i][i]\n",
    "        for k in range(0, 4):\n",
    "            TMP[j][k] = TMP[j][k] - ratio * TMP[i][k]\n",
    "            I[j][k] = I[j][k] - ratio * I[i][k]\n",
    "\n",
    "# Backward phase\n",
    "for i in range(4 - 1, -1, -1):\n",
    "    for j in range(i - 1, -1, -1):\n",
    "        ratio = TMP[j][i] / TMP[i][i]\n",
    "        if ratio == 0:\n",
    "                continue\n",
    "        for k in range(4 - 1, -1, -1):\n",
    "            TMP[j][k] = TMP[j][k] - ratio * TMP[i][k]\n",
    "            I[j][k] = I[j][k] - ratio * I[i][k]\n",
    "            \n",
    "print(\"\\nP^(-1) =\\n\", I)\n",
    "\n",
    "# STEP3: find the diagonal matrix D\n",
    "D = np.array(I.dot(A).dot(P))\n",
    "np.set_printoptions(suppress = True)\n",
    "print(\"\\nD =\\n\", D)\n",
    "# STEP4: find the inverse of matrix P\n",
    "RES = np.identity(4)\n",
    "tmp = 0\n",
    "#D=np.diag(eigValue)\n",
    "d1 = D[0][0]\n",
    "d2 = D[1][1]\n",
    "d3 = D[2][2]\n",
    "d4 = D[3][3]\n",
    "\n",
    "#for i in range(0, 99):\n",
    "D[0][0] = pow(d1,100)\n",
    "D[1][1] = pow(d2,100) \n",
    "D[2][2] = pow(d3,100)\n",
    "D[3][3] = pow(d4,100)\n",
    "#A^100=PD^100P^(-1)\n",
    "RES=P@D@I\n",
    "        \n",
    "print(\"\\nA^100 =\\n\", RES)\n",
    "\n"
   ]
  },
  {
   "cell_type": "code",
   "execution_count": null,
   "id": "cfa9917d",
   "metadata": {},
   "outputs": [],
   "source": []
  },
  {
   "cell_type": "code",
   "execution_count": 12,
   "id": "5c6386ad",
   "metadata": {},
   "outputs": [
    {
     "data": {
      "text/plain": [
       "1.2676506002282294e+30"
      ]
     },
     "execution_count": 12,
     "metadata": {},
     "output_type": "execute_result"
    }
   ],
   "source": [
    "A=pow(2.0,100)\n",
    "A"
   ]
  }
 ],
 "metadata": {
  "kernelspec": {
   "display_name": "Python 3.10.4 ('py')",
   "language": "python",
   "name": "python3"
  },
  "language_info": {
   "codemirror_mode": {
    "name": "ipython",
    "version": 3
   },
   "file_extension": ".py",
   "mimetype": "text/x-python",
   "name": "python",
   "nbconvert_exporter": "python",
   "pygments_lexer": "ipython3",
   "version": "3.10.4"
  },
  "vscode": {
   "interpreter": {
    "hash": "22216b08ebab8be3394fec349c00ce696f41ecd13338106d20d108b8649c16c1"
   }
  }
 },
 "nbformat": 4,
 "nbformat_minor": 5
}
