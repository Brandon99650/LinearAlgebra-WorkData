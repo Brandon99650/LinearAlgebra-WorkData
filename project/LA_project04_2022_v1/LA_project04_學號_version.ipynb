{
 "cells": [
  {
   "cell_type": "code",
   "execution_count": null,
   "id": "a47be728",
   "metadata": {},
   "outputs": [],
   "source": [
    "#### Linear Algebra_Project04_2022\n",
    "# Problem: Diagnalization\n",
    "\n",
    "import numpy as np\n",
    "from numpy.linalg import eig\n",
    "A = np.array([(1, 1, 1, 1), (2, 1, -1, -2),(1, -1, -1, 1), (1, -2, 2, -1)])"
   ]
  },
  {
   "cell_type": "code",
   "execution_count": null,
   "id": "f383af4c",
   "metadata": {},
   "outputs": [],
   "source": [
    "# STEP1: find eigenvalues, eigenvectors and matrix P\n"
   ]
  },
  {
   "cell_type": "code",
   "execution_count": null,
   "id": "c34452d2",
   "metadata": {},
   "outputs": [],
   "source": [
    "# STEP2: find the inverse of matrix P\n"
   ]
  },
  {
   "cell_type": "code",
   "execution_count": null,
   "id": "3c30fb9a",
   "metadata": {},
   "outputs": [],
   "source": [
    "# STEP3: find the diagonal matrix D\n"
   ]
  },
  {
   "cell_type": "code",
   "execution_count": null,
   "id": "fbfaf76d",
   "metadata": {},
   "outputs": [],
   "source": [
    "# STEP4: find the powers of matrix A\n"
   ]
  }
 ],
 "metadata": {
  "kernelspec": {
   "display_name": "Python 3 (ipykernel)",
   "language": "python",
   "name": "python3"
  },
  "language_info": {
   "codemirror_mode": {
    "name": "ipython",
    "version": 3
   },
   "file_extension": ".py",
   "mimetype": "text/x-python",
   "name": "python",
   "nbconvert_exporter": "python",
   "pygments_lexer": "ipython3",
   "version": "3.9.12"
  }
 },
 "nbformat": 4,
 "nbformat_minor": 5
}
