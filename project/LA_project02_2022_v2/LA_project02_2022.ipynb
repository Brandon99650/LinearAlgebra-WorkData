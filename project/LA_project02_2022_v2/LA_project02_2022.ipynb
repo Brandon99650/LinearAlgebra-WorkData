{
 "cells": [
  {
   "cell_type": "code",
   "execution_count": 1,
   "id": "0ec425c8",
   "metadata": {},
   "outputs": [],
   "source": [
    "import numpy as np"
   ]
  },
  {
   "cell_type": "markdown",
   "id": "3e09a08e",
   "metadata": {},
   "source": [
    "# Q1:Triangular Systems-upper triangular system method !(20 pt)\n",
    "## Backward substitution :"
   ]
  },
  {
   "cell_type": "code",
   "execution_count": null,
   "id": "4d56de08",
   "metadata": {},
   "outputs": [],
   "source": []
  },
  {
   "cell_type": "markdown",
   "id": "a42a96e7",
   "metadata": {},
   "source": [
    "# Q2:Triangular Systems-Lower triangular system method!(20pt)  \n",
    "## Forward substitution :"
   ]
  },
  {
   "cell_type": "code",
   "execution_count": null,
   "id": "b327493b",
   "metadata": {},
   "outputs": [],
   "source": []
  },
  {
   "cell_type": "markdown",
   "id": "9dec1bde",
   "metadata": {},
   "source": [
    "# Q3: Guassion Elimination method to solve linear system !(30pt)  \n",
    "## Ax=b,for x!\n"
   ]
  },
  {
   "cell_type": "code",
   "execution_count": null,
   "id": "f0a84204",
   "metadata": {},
   "outputs": [],
   "source": []
  },
  {
   "cell_type": "code",
   "execution_count": null,
   "id": "ed97a002",
   "metadata": {},
   "outputs": [],
   "source": []
  },
  {
   "cell_type": "code",
   "execution_count": null,
   "id": "0ab4f7a6",
   "metadata": {},
   "outputs": [],
   "source": []
  }
 ],
 "metadata": {
  "kernelspec": {
   "display_name": "Python 3 (ipykernel)",
   "language": "python",
   "name": "python3"
  },
  "language_info": {
   "codemirror_mode": {
    "name": "ipython",
    "version": 3
   },
   "file_extension": ".py",
   "mimetype": "text/x-python",
   "name": "python",
   "nbconvert_exporter": "python",
   "pygments_lexer": "ipython3",
   "version": "3.9.12"
  },
  "vscode": {
   "interpreter": {
    "hash": "22216b08ebab8be3394fec349c00ce696f41ecd13338106d20d108b8649c16c1"
   }
  }
 },
 "nbformat": 4,
 "nbformat_minor": 5
}
