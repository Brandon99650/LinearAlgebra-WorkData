{
 "cells": [
  {
   "cell_type": "code",
   "execution_count": 74,
   "id": "9c3bb870",
   "metadata": {},
   "outputs": [],
   "source": [
    "import numpy as np"
   ]
  },
  {
   "cell_type": "code",
   "execution_count": 75,
   "id": "b5f5d8c7",
   "metadata": {},
   "outputs": [
    {
     "name": "stdout",
     "output_type": "stream",
     "text": [
      "10\n",
      "13\n",
      "16\n",
      "19\n"
     ]
    }
   ],
   "source": [
    "for i in range(10,20,3):\n",
    "    print(i)"
   ]
  },
  {
   "cell_type": "markdown",
   "id": "5fe60e06",
   "metadata": {},
   "source": [
    "## 語法\n",
    "for迴圈補充:range(起始值,結束值,遞增(減)值)。"
   ]
  },
  {
   "cell_type": "code",
   "execution_count": 76,
   "id": "cea79f2f",
   "metadata": {},
   "outputs": [
    {
     "name": "stdout",
     "output_type": "stream",
     "text": [
      "a\n",
      "p\n",
      "p\n",
      "l\n",
      "e\n"
     ]
    }
   ],
   "source": [
    "for i in 'apple':\n",
    "    print(i)"
   ]
  },
  {
   "cell_type": "markdown",
   "id": "16e61ed2",
   "metadata": {},
   "source": [
    "## 語法\n",
    "for迴圈補充:可以針對Iterable(可疊代的)物件來進行讀取，Python內建幾個常用的Iterable物件，像是String(字串)、List(串列)、Tuples(元組)、Dictionary(字典)等。"
   ]
  },
  {
   "cell_type": "code",
   "execution_count": 72,
   "id": "414b3cd5",
   "metadata": {},
   "outputs": [
    {
     "name": "stdout",
     "output_type": "stream",
     "text": [
      "0 0\n",
      "0 1\n",
      "0 2\n",
      "1 0\n",
      "1 1\n",
      "1 2\n",
      "2 0\n",
      "2 1\n",
      "2 2\n"
     ]
    }
   ],
   "source": [
    "for i in range(3):\n",
    "    for j in range(3):\n",
    "        print(i,j)"
   ]
  },
  {
   "cell_type": "markdown",
   "id": "f8d78523",
   "metadata": {},
   "source": [
    "## 語法\n",
    "for迴圈補充:Nested Loops(巢狀迴圈)，迴圈內又有迴圈。"
   ]
  },
  {
   "cell_type": "code",
   "execution_count": 29,
   "id": "fb078b9e",
   "metadata": {
    "scrolled": true
   },
   "outputs": [
    {
     "name": "stdout",
     "output_type": "stream",
     "text": [
      "[1 2 3 4 5 6 7 8 9]\n",
      "[1. 3. 5. 7. 9.]\n",
      "[1. 3. 5. 7. 9.]\n",
      "<class 'numpy.ndarray'>\n"
     ]
    }
   ],
   "source": [
    "print(np.arange(1,10))\n",
    "print(np.arange(1,10,2,float))\n",
    "print(np.arange(1,11,2,float))\n",
    "print(type(np.arange(1,11,2,float)))"
   ]
  },
  {
   "cell_type": "markdown",
   "id": "1bb3cb2b",
   "metadata": {},
   "source": [
    "## numpy套件\n",
    "numpy.arange(start,stop,step,dtype=None, *, like=None):\n",
    "產生一個等差數列的陣列。<br>\n",
    "start : 從某數開始，預設為 0<br>\n",
    "stop : 到某數停止(不包含)<br>\n",
    "step : 間隔多少<br>\n",
    "dtype : bool(布林值), int(整數), float(浮點數), complex(複數)<br>"
   ]
  },
  {
   "cell_type": "code",
   "execution_count": 41,
   "id": "38d29cfa",
   "metadata": {},
   "outputs": [
    {
     "name": "stdout",
     "output_type": "stream",
     "text": [
      "[[1 2 3]\n",
      " [0 5 6]\n",
      " [0 0 9]\n",
      " [0 0 0]] \n",
      "\n",
      "[[ 1  2  3]\n",
      " [ 4  5  6]\n",
      " [ 0  8  9]\n",
      " [ 0  0 12]] \n",
      "\n",
      "[[0 2 3]\n",
      " [0 0 6]\n",
      " [0 0 0]\n",
      " [0 0 0]]\n"
     ]
    }
   ],
   "source": [
    "print(np.triu([[1,2,3],[4,5,6],[7,8,9],[10,11,12]]),'\\n')\n",
    "print(np.triu([[1,2,3],[4,5,6],[7,8,9],[10,11,12]],-1),'\\n')\n",
    "print(np.triu([[1,2,3],[4,5,6],[7,8,9],[10,11,12]],1))"
   ]
  },
  {
   "cell_type": "code",
   "execution_count": 42,
   "id": "116fc818",
   "metadata": {},
   "outputs": [
    {
     "name": "stdout",
     "output_type": "stream",
     "text": [
      "[[ 1  0  0]\n",
      " [ 4  5  0]\n",
      " [ 7  8  9]\n",
      " [10 11 12]] \n",
      "\n",
      "[[ 0  0  0]\n",
      " [ 4  0  0]\n",
      " [ 7  8  0]\n",
      " [10 11 12]] \n",
      "\n",
      "[[ 1  2  0]\n",
      " [ 4  5  6]\n",
      " [ 7  8  9]\n",
      " [10 11 12]]\n"
     ]
    }
   ],
   "source": [
    "print(np.tril([[1,2,3],[4,5,6],[7,8,9],[10,11,12]]),'\\n')\n",
    "print(np.tril([[1,2,3],[4,5,6],[7,8,9],[10,11,12]],-1),'\\n')\n",
    "print(np.tril([[1,2,3],[4,5,6],[7,8,9],[10,11,12]],1))"
   ]
  },
  {
   "cell_type": "markdown",
   "id": "fe49d21e",
   "metadata": {},
   "source": [
    "## numpy套件\n",
    "numpy.triu(m, k=0):取得上三角矩陣，返回的值其中元素 k-th 對角線包含以下歸零。<br>\n",
    "numpy.tril(m, k=0):取得下三角矩陣，返回的值其中元素 k-th 對角線包含以上歸零。<br>\n",
    "k默認為0"
   ]
  },
  {
   "cell_type": "code",
   "execution_count": 59,
   "id": "4f162861",
   "metadata": {},
   "outputs": [
    {
     "name": "stdout",
     "output_type": "stream",
     "text": [
      "[ 1  2  0  3 -2]\n",
      "[ 1  0 -2]\n",
      "[-2  1  2  0  3 -2  0  0] \n",
      "\n",
      "[[-2  1  2]\n",
      " [ 0  3 -2]\n",
      " [ 0  0  4]] \n",
      "\n",
      "[0 4]\n",
      "<class 'numpy.ndarray'>\n"
     ]
    }
   ],
   "source": [
    "U=np.array([-2, 1, 2, 0, 3, -2, 0, 0, 4])\n",
    "print(U[1:6])\n",
    "print(U[1:6:2])\n",
    "print(U[:-1],'\\n')\n",
    "U=U.reshape(3,3)\n",
    "print(U,'\\n')\n",
    "print(U[2,1:3])\n",
    "print(type(U[2,1:3]))"
   ]
  },
  {
   "cell_type": "markdown",
   "id": "61185eac",
   "metadata": {},
   "source": [
    "## 語法\n",
    "python slice用法:[起點 : 終點(不包含) : 間隔]，預設值為 [0: 提取到最後一個:1]。<br>\n",
    "[:-1]表示為到最後一個元素(不包含)<br>"
   ]
  },
  {
   "cell_type": "code",
   "execution_count": 62,
   "id": "56c8e259",
   "metadata": {},
   "outputs": [
    {
     "data": {
      "text/plain": [
       "array([1, 2, 3, 4, 5, 6])"
      ]
     },
     "execution_count": 62,
     "metadata": {},
     "output_type": "execute_result"
    }
   ],
   "source": [
    "a = np.array([1, 2])\n",
    "b = np.array([3, 4])\n",
    "c = np.array([5, 6])\n",
    "np.concatenate((a,b,c))"
   ]
  },
  {
   "cell_type": "code",
   "execution_count": 73,
   "id": "d459ca1e",
   "metadata": {},
   "outputs": [
    {
     "name": "stdout",
     "output_type": "stream",
     "text": [
      "[[1 2]\n",
      " [3 4]] [[5 6]] \n",
      "\n",
      "[[1 2]\n",
      " [3 4]\n",
      " [5 6]] \n",
      "\n",
      "[[1 2 5]\n",
      " [3 4 6]] \n",
      "\n",
      "[1 2 3 4 5 6]\n"
     ]
    }
   ],
   "source": [
    "a = np.array([[1, 2], [3, 4]])\n",
    "b = np.array([[5, 6]])\n",
    "print(a,b,'\\n')\n",
    "print(np.concatenate((a, b), axis=0),'\\n')\n",
    "print(np.concatenate((a, b.T), axis=1),'\\n')\n",
    "print(np.concatenate((a, b), axis=None))"
   ]
  },
  {
   "cell_type": "markdown",
   "id": "f86c0a31",
   "metadata": {},
   "source": [
    "## numpy套件\n",
    "numpy.concatenate((a1, a2, ...), axis=0, out=None, dtype=None, casting=\"same_kind\"):用來拼接array，可為多組或多維。<br>\n",
    "一維陣列<br>\n",
    "axis的值不影響結果<br>\n",
    "二維陣列<br>\n",
    "axis=0 按照行拼接<br>\n",
    "axis=1 按照列拼接<br>\n",
    "axis=None 使變成一維陣列<br>\n",
    "axis=0為預設值"
   ]
  },
  {
   "cell_type": "code",
   "execution_count": null,
   "id": "201f724b",
   "metadata": {},
   "outputs": [],
   "source": []
  }
 ],
 "metadata": {
  "kernelspec": {
   "display_name": "Python 3 (ipykernel)",
   "language": "python",
   "name": "python3"
  },
  "language_info": {
   "codemirror_mode": {
    "name": "ipython",
    "version": 3
   },
   "file_extension": ".py",
   "mimetype": "text/x-python",
   "name": "python",
   "nbconvert_exporter": "python",
   "pygments_lexer": "ipython3",
   "version": "3.9.12"
  }
 },
 "nbformat": 4,
 "nbformat_minor": 5
}
