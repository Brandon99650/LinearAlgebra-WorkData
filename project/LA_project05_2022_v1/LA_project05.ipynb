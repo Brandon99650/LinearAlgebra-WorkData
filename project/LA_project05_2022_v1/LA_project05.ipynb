{
 "cells": [
  {
   "cell_type": "code",
   "execution_count": 84,
   "id": "30601ecb",
   "metadata": {},
   "outputs": [],
   "source": [
    "import numpy as np\n",
    "from numpy import fabs\n",
    "import sys"
   ]
  },
  {
   "cell_type": "code",
   "execution_count": 106,
   "id": "20d8b8bc",
   "metadata": {},
   "outputs": [
    {
     "name": "stdout",
     "output_type": "stream",
     "text": [
      "Input the dimension of matrix A: \n",
      "\n",
      "3 3\n",
      "Input matrix A: \n",
      "\n",
      "1 0 0\n",
      "1 1 0\n",
      "1 1 1\n"
     ]
    },
    {
     "data": {
      "text/plain": [
       "array([[1, 0, 0],\n",
       "       [1, 1, 0],\n",
       "       [1, 1, 1]])"
      ]
     },
     "execution_count": 106,
     "metadata": {},
     "output_type": "execute_result"
    }
   ],
   "source": [
    "print(\"Input the dimension of matrix A: \\n\")\n",
    "a,b = input().split()\n",
    "a = int(a)\n",
    "b = int(b)\n",
    "print(\"Input matrix A: \\n\")\n",
    "lst = []\n",
    "for i  in range(a):\n",
    "    x = [eval(i) for i in input().split()]\n",
    "    lst.append(x)\n"
   ]
  },
  {
   "cell_type": "code",
   "execution_count": 107,
   "id": "e31f4f65",
   "metadata": {},
   "outputs": [],
   "source": [
    "a = np.array(lst)\n",
    "U = np.array(a)\n",
    "m,n = np.shape(U)\n",
    "\n",
    "if(n>m) :\n",
    "    n = n-1\n",
    "\n",
    "for i in range(0,m-1):\n",
    "    if U[i,i] == 0:\n",
    "        for k in range(i+1,m):\n",
    "            if fabs(U[k,i]) > fabs(U[i,i]):\n",
    "                U[[i,k]] = U[[k,i]]\n",
    "                break    \n",
    "                \n",
    "    for j in range(i+1,n):\n",
    "        mul = U[j,i]/U[i,i]\n",
    "        U[j,i:n+1] = U[j,i:n+1] - U[i,i:n+1]*mul\n",
    "        \n",
    "flag = 0\n",
    "for i in range(m):\n",
    "    if(U[i,i] == 0):\n",
    "        print(\"Input error : Matrix A must be linearly independent columns !\")\n",
    "        flag = 1\n",
    "        break\n",
    "if flag == 1:\n",
    "    sys.exit(0)\n"
   ]
  },
  {
   "cell_type": "code",
   "execution_count": 208,
   "id": "89e6a331",
   "metadata": {},
   "outputs": [
    {
     "name": "stdout",
     "output_type": "stream",
     "text": [
      "u1 =  [1 1 1]\n",
      "u2 =  [0 1 1]\n",
      "u3 =  [0 0 1]\n"
     ]
    }
   ],
   "source": [
    "u1 = a.T[0]\n",
    "u2 = a.T[1]\n",
    "u3 = a.T[2]\n",
    "print(\"u1 = \",u1)\n",
    "print(\"u2 = \",u2)\n",
    "print(\"u3 = \",u3)\n",
    "U = np.concatenate((u1,u2,u3),axis = 0).reshape(m,n)"
   ]
  },
  {
   "cell_type": "code",
   "execution_count": null,
   "id": "6f4b9b5d",
   "metadata": {},
   "outputs": [],
   "source": []
  },
  {
   "cell_type": "code",
   "execution_count": 151,
   "id": "de62b233",
   "metadata": {},
   "outputs": [
    {
     "name": "stdout",
     "output_type": "stream",
     "text": [
      "v1 =  [1 1 1]\n",
      "v2 =  [-0.66666667  0.33333333  0.33333333]\n",
      "v3 =  [ 0.  -0.5  0.5]\n"
     ]
    }
   ],
   "source": [
    "v1 = u1\n",
    "sum1 = 0\n",
    "sum2 = 0\n",
    "\n",
    "for i in range(m):\n",
    "    sum1 += pow(v1[i],2)\n",
    "v2 = u2 - np.dot(u2,v1)/sum1*v1\n",
    "\n",
    "for i in range(m):\n",
    "    sum2 += pow(v2[i],2)\n",
    "v3 = u3 - (np.dot(u3,v1)/sum1*v1) - (np.dot(u3,v2)/sum2*v2)\n",
    "\n",
    "print(\"v1 = \",v1)\n",
    "print(\"v2 = \",v2)\n",
    "print(\"v3 = \",v3)"
   ]
  },
  {
   "cell_type": "code",
   "execution_count": 162,
   "id": "02e4661a",
   "metadata": {},
   "outputs": [
    {
     "name": "stdout",
     "output_type": "stream",
     "text": [
      "q1 =  [0.57735027 0.57735027 0.57735027]\n",
      "q2 =  [-0.81649658  0.40824829  0.40824829]\n",
      "q3 =  [ 0.         -0.70710678  0.70710678]\n"
     ]
    }
   ],
   "source": [
    "sum3 = 0\n",
    "for i in range(m):\n",
    "    sum3 += pow(v3[i],2)\n",
    "q1 = v1/pow(sum1,0.5)\n",
    "q2 = v2/pow(sum2,0.5)\n",
    "q3 = v3/pow(sum3,0.5)\n",
    "\n",
    "print(\"q1 = \",q1)\n",
    "print(\"q2 = \",q2)\n",
    "print(\"q3 = \",q3)"
   ]
  },
  {
   "cell_type": "code",
   "execution_count": 209,
   "id": "c7451a63",
   "metadata": {},
   "outputs": [
    {
     "name": "stdout",
     "output_type": "stream",
     "text": [
      "Q = \n",
      " [[ 0.57735027 -0.81649658  0.        ]\n",
      " [ 0.57735027  0.40824829 -0.70710678]\n",
      " [ 0.57735027  0.40824829  0.70710678]]\n",
      "R = \n",
      " [[1.73205081 1.15470054 0.57735027]\n",
      " [0.         0.81649658 0.40824829]\n",
      " [0.         0.         0.70710678]]\n"
     ]
    }
   ],
   "source": [
    "Q = np.concatenate((q1.T,q2.T,q3.T),axis = 0)\n",
    "Q = Q.reshape(3,3).T\n",
    "R = np.zeros(n*m).reshape(3,3)\n",
    "for i in range(m):\n",
    "    for j in range(i,n):\n",
    "        R[i,j] = U[j].dot(Q.T[i])\n",
    "print(\"Q = \\n\",Q)\n",
    "print(\"R = \\n\",R)"
   ]
  },
  {
   "cell_type": "code",
   "execution_count": 210,
   "id": "f334841c",
   "metadata": {},
   "outputs": [
    {
     "name": "stdout",
     "output_type": "stream",
     "text": [
      "A = \n",
      " [[1.00000000e+00 1.11022302e-16 5.55111512e-17]\n",
      " [1.00000000e+00 1.00000000e+00 1.99673462e-16]\n",
      " [1.00000000e+00 1.00000000e+00 1.00000000e+00]]\n"
     ]
    }
   ],
   "source": [
    "print(\"A = \\n\",Q.dot(R))      "
   ]
  },
  {
   "cell_type": "code",
   "execution_count": null,
   "id": "69e7f748",
   "metadata": {},
   "outputs": [],
   "source": []
  }
 ],
 "metadata": {
  "kernelspec": {
   "display_name": "Python 3 (ipykernel)",
   "language": "python",
   "name": "python3"
  },
  "language_info": {
   "codemirror_mode": {
    "name": "ipython",
    "version": 3
   },
   "file_extension": ".py",
   "mimetype": "text/x-python",
   "name": "python",
   "nbconvert_exporter": "python",
   "pygments_lexer": "ipython3",
   "version": "3.9.7"
  }
 },
 "nbformat": 4,
 "nbformat_minor": 5
}
