{
 "cells": [
  {
   "cell_type": "code",
   "execution_count": 1,
   "id": "db5f3895",
   "metadata": {},
   "outputs": [],
   "source": [
    "import numpy as np"
   ]
  },
  {
   "cell_type": "markdown",
   "id": "f19ba092",
   "metadata": {},
   "source": [
    "## import ... as ...\n",
    "import 代表的是引入一個package(套件)，<br>\n",
    "而as 代表的是取一個簡易的名稱避免原名稱過於冗長。"
   ]
  },
  {
   "cell_type": "code",
   "execution_count": 9,
   "id": "ed704c82",
   "metadata": {},
   "outputs": [
    {
     "name": "stdout",
     "output_type": "stream",
     "text": [
      "<class 'str'> <class 'str'> <class 'str'>\n",
      "1 2.0 False\n",
      "<class 'int'> <class 'float'> <class 'bool'>\n"
     ]
    }
   ],
   "source": [
    "x,y,z=(input().split())\n",
    "print(type(x),type(y),type(z))\n",
    "x=int(x)\n",
    "y=float(y)\n",
    "z=int(z)\n",
    "z=bool(z)\n",
    "print(x,y,z)\n",
    "print(type(x),type(y),type(z))"
   ]
  },
  {
   "cell_type": "code",
   "execution_count": 6,
   "id": "1b5c85c9",
   "metadata": {},
   "outputs": [
    {
     "data": {
      "text/plain": [
       "False"
      ]
     },
     "execution_count": 6,
     "metadata": {},
     "output_type": "execute_result"
    }
   ],
   "source": [
    "a=0\n",
    "a=bool(0)\n",
    "a"
   ]
  },
  {
   "cell_type": "markdown",
   "id": "b9f95102",
   "metadata": {},
   "source": [
    "## 型態 \n",
    "string(字串)，就是把一堆字元串起來的意思，字元又是什麼呢？像是字母、數字、符號、空格或是換行都是字元。<br>\n",
    "int(整數)，用來表示整數值。<br>\n",
    "float(浮點數)，用來表示小數值。<br>\n",
    "bool(布林值)，代表的是1(true)與0(false)，用來判斷語句的運算值為真或假。<br>\n",
    "## 基礎語法\n",
    "python 在輸入時input(輸入)皆默認為string(字串) 的型態。<br>\n",
    "split() 用來把字串透過指定的分隔符號對字串進行分割，不給入參數的話，預設會以空白作為分隔符號做切割。<br>\n",
    "'型態'()，代表的是強制轉換型態。<br>\n",
    "type() 為用來查看資料型態的方法，class可視作一個類別的意思。<br>\n",
    "input() 為輸入，print() 為輸出。\n"
   ]
  },
  {
   "cell_type": "code",
   "execution_count": 4,
   "id": "f7b0c069",
   "metadata": {
    "scrolled": true
   },
   "outputs": [
    {
     "name": "stdout",
     "output_type": "stream",
     "text": [
      "<class 'int'> <class 'int'>\n",
      "3 <class 'int'>\n",
      "-1 <class 'int'>\n",
      "2 <class 'int'>\n",
      "0.5 <class 'float'>\n",
      "0 <class 'int'>\n",
      "1 <class 'int'>\n",
      "1 <class 'int'>\n",
      "1.0 <class 'float'>\n"
     ]
    }
   ],
   "source": [
    "a=1\n",
    "b=2\n",
    "print(type(a),type(b))\n",
    "print(a+b,type(a+b))\n",
    "print(a-b,type(a-b))\n",
    "print(a*b,type(a*b))\n",
    "print(a/b,type(a/b))\n",
    "print(a//b,type(a//b))\n",
    "print(a%b,type(a%b))\n",
    "print(a**b,type(a**b))\n",
    "print(float(a),type(float(a)))"
   ]
  },
  {
   "cell_type": "markdown",
   "id": "42bd5f97",
   "metadata": {},
   "source": [
    "## 基礎語法\n",
    "python會自動偵測型態，所以這裡的a,b 便會被判斷為int的型態。<br>\n",
    "## 運算子\n",
    "需要注意的是<br>\n",
    "'/'為一般的除法概念，而'//'為整數除法也就是忽略小數點。<br>\n",
    "'%'為求餘數。<br>\n",
    "' ** '為次方意義，即a的b次方。<br>"
   ]
  },
  {
   "cell_type": "code",
   "execution_count": 5,
   "id": "d108b53e",
   "metadata": {},
   "outputs": [
    {
     "name": "stdout",
     "output_type": "stream",
     "text": [
      "a=0\n"
     ]
    }
   ],
   "source": [
    "a=0\n",
    "if a>0:\n",
    "    print('a>0')\n",
    "elif a<0:\n",
    "    print('a<0')\n",
    "else:\n",
    "    print('a=0')"
   ]
  },
  {
   "cell_type": "markdown",
   "id": "de2029a0",
   "metadata": {},
   "source": [
    "## if ... else\n",
    "if '條件句' :<br>\n",
    "&emsp;'執行句'<br>\n",
    "elif '條件句' :<br>\n",
    "&emsp;'執行句'<br>\n",
    "else:<br>\n",
    "&emsp;'執行句'<br>"
   ]
  },
  {
   "cell_type": "code",
   "execution_count": 6,
   "id": "286e80b4",
   "metadata": {},
   "outputs": [
    {
     "name": "stdout",
     "output_type": "stream",
     "text": [
      "[[1. 2. 3.]\n",
      " [4. 5. 6.]] <class 'numpy.ndarray'> float64\n"
     ]
    }
   ],
   "source": [
    "A=np.array(([1,2,3],[4,5,6]),float)\n",
    "#A\n",
    "print(A,type(A),A.dtype)"
   ]
  },
  {
   "cell_type": "markdown",
   "id": "f6c1b5f0",
   "metadata": {},
   "source": [
    "## numpy 套件\n",
    "np.array(): 建成一個矩陣，有矩陣加減乘除的應用<br>\n",
    "後項的float是將每一個element強制轉換的意思。<br>\n",
    "dtype:返回陣列中元素的資料型態。<br>\n",
    "這邊的float64代表有8個bytes，8*8=64個bits。\n",
    "## 基礎語法\n",
    "可直接寫成A，或print(A)。"
   ]
  },
  {
   "cell_type": "code",
   "execution_count": 7,
   "id": "4bf5b91e",
   "metadata": {},
   "outputs": [
    {
     "name": "stdout",
     "output_type": "stream",
     "text": [
      "3 5\n",
      "[[0. 0. 0. 0. 0.]\n",
      " [0. 0. 0. 0. 0.]\n",
      " [0. 0. 0. 0. 0.]] (3, 5)\n"
     ]
    }
   ],
   "source": [
    "m,n=map(int,input().split())\n",
    "matrix=np.zeros((m,n))\n",
    "print(matrix,matrix.shape)"
   ]
  },
  {
   "cell_type": "markdown",
   "id": "248a2b16",
   "metadata": {},
   "source": [
    "## 基礎語法\n",
    "map(function, iterable, ...):定義一個function。接著用這個function來對一個iterable 的物件內每一個元素做處理。<br>\n",
    "在這邊，使用map函式第一個參數int，將第二個參數轉型成整數(int)。\n",
    "## numpy 套件\n",
    "np.zeros((m,n)):建成一個m個row、n個column，element全為0的矩陣。\n",
    "shape:查看矩陣的row跟column。"
   ]
  },
  {
   "cell_type": "code",
   "execution_count": 8,
   "id": "c6668e9c",
   "metadata": {},
   "outputs": [
    {
     "name": "stdout",
     "output_type": "stream",
     "text": [
      "0\n",
      "1\n",
      "2\n",
      "3\n",
      "4\n",
      "5\n",
      "6\n",
      "7\n",
      "8\n",
      "9\n"
     ]
    }
   ],
   "source": [
    "num=10\n",
    "for i in range(num):\n",
    "    print(i)   "
   ]
  },
  {
   "cell_type": "markdown",
   "id": "87ea1751",
   "metadata": {},
   "source": [
    "## for迴圈\n",
    "i是從0開始到num-1，而不是到num。"
   ]
  },
  {
   "cell_type": "code",
   "execution_count": 9,
   "id": "f1e366ff",
   "metadata": {},
   "outputs": [
    {
     "name": "stdout",
     "output_type": "stream",
     "text": [
      "0\n",
      "1\n",
      "2\n"
     ]
    },
    {
     "data": {
      "text/plain": [
       "array([2, 4, 6])"
      ]
     },
     "execution_count": 9,
     "metadata": {},
     "output_type": "execute_result"
    }
   ],
   "source": [
    "B=np.array([1,2,3])\n",
    "for i in range(len(B)):\n",
    "    print(i)\n",
    "    B[i]=2*B[i]\n",
    "B"
   ]
  },
  {
   "cell_type": "markdown",
   "id": "d1f9848d",
   "metadata": {},
   "source": [
    "## 基礎語法\n",
    "len:返回的值為長度或項的個數。"
   ]
  },
  {
   "cell_type": "code",
   "execution_count": 10,
   "id": "ede00fdf",
   "metadata": {},
   "outputs": [
    {
     "name": "stdout",
     "output_type": "stream",
     "text": [
      "[ 4 10 18] <class 'numpy.ndarray'> int32\n"
     ]
    }
   ],
   "source": [
    "A=np.array([1,2,3])\n",
    "B=np.array([4,5,6])\n",
    "print(A*B,type(A*B),(A*B).dtype)"
   ]
  },
  {
   "cell_type": "markdown",
   "id": "11d96c9d",
   "metadata": {},
   "source": [
    "## 矩陣乘法\n",
    "使用' * '，表示矩陣內的每個element相乘。"
   ]
  },
  {
   "cell_type": "code",
   "execution_count": 11,
   "id": "9634b627",
   "metadata": {},
   "outputs": [
    {
     "name": "stdout",
     "output_type": "stream",
     "text": [
      "[ 4. 10. 18.] float64\n"
     ]
    }
   ],
   "source": [
    "C=A*B\n",
    "print(C.astype(float),(C.astype(float)).dtype)"
   ]
  },
  {
   "cell_type": "markdown",
   "id": "257a01f2",
   "metadata": {},
   "source": [
    "## numpy 套件\n",
    "astype:轉換資料的型態。"
   ]
  },
  {
   "cell_type": "code",
   "execution_count": 12,
   "id": "15bee339",
   "metadata": {},
   "outputs": [
    {
     "name": "stdout",
     "output_type": "stream",
     "text": [
      "32 <class 'numpy.int32'> int32\n"
     ]
    }
   ],
   "source": [
    "A.dot(B)\n",
    "print(A.dot(B),type(A.dot(B)),(A.dot(B)).dtype)"
   ]
  },
  {
   "cell_type": "markdown",
   "id": "4e6c2148",
   "metadata": {},
   "source": [
    "## numpy 套件\n",
    "A.dot(B):代表矩陣的內積，亦可寫成np.dot(A,B)。"
   ]
  },
  {
   "cell_type": "code",
   "execution_count": 13,
   "id": "3aebed01",
   "metadata": {},
   "outputs": [
    {
     "data": {
      "text/plain": [
       "array([[1, 0, 0],\n",
       "       [0, 2, 0],\n",
       "       [0, 0, 3]])"
      ]
     },
     "execution_count": 13,
     "metadata": {},
     "output_type": "execute_result"
    }
   ],
   "source": [
    "np.diag(A)"
   ]
  },
  {
   "cell_type": "markdown",
   "id": "a2e65fdb",
   "metadata": {},
   "source": [
    "## numpy 套件\n",
    "np.diag():將原本$1 \\times 3$的A矩陣，形成$3 \\times 3$以一維矩陣A的元素作為對角線上的矩陣。"
   ]
  },
  {
   "cell_type": "code",
   "execution_count": 14,
   "id": "1355d4b2",
   "metadata": {},
   "outputs": [
    {
     "name": "stdout",
     "output_type": "stream",
     "text": [
      "[1 2 3 4 5 6 7 8 9] \n",
      " [[1 2 3]\n",
      " [4 5 6]\n",
      " [7 8 9]] \n",
      " [1 5 9]\n"
     ]
    }
   ],
   "source": [
    "D=np.array([1,2,3,4,5,6,7,8,9])\n",
    "print(D,'\\n',D.reshape(3,3),'\\n',np.diag(D.reshape(3,3)))"
   ]
  },
  {
   "cell_type": "markdown",
   "id": "a9abb65c",
   "metadata": {},
   "source": [
    "## numpy 套件\n",
    "reshape:對有n個element的矩陣，重塑陣列形狀，需化為擁有相同數量(即$row \\times column$=n)的element的矩陣。<br>\n",
    "np.diag():若對一個不為一維矩陣的使用np.diag()，會變成提取對角線上的元素。"
   ]
  },
  {
   "cell_type": "code",
   "execution_count": null,
   "id": "8ed76e57",
   "metadata": {},
   "outputs": [],
   "source": []
  },
  {
   "cell_type": "code",
   "execution_count": null,
   "id": "b4bdc451",
   "metadata": {},
   "outputs": [],
   "source": []
  }
 ],
 "metadata": {
  "kernelspec": {
   "display_name": "Python 3.10.4 ('py')",
   "language": "python",
   "name": "python3"
  },
  "language_info": {
   "codemirror_mode": {
    "name": "ipython",
    "version": 3
   },
   "file_extension": ".py",
   "mimetype": "text/x-python",
   "name": "python",
   "nbconvert_exporter": "python",
   "pygments_lexer": "ipython3",
   "version": "3.10.4"
  },
  "vscode": {
   "interpreter": {
    "hash": "22216b08ebab8be3394fec349c00ce696f41ecd13338106d20d108b8649c16c1"
   }
  }
 },
 "nbformat": 4,
 "nbformat_minor": 5
}
