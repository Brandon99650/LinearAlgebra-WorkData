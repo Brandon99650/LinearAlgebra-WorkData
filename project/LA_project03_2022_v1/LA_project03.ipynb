{
 "cells": [
  {
   "cell_type": "code",
   "execution_count": 1,
   "metadata": {},
   "outputs": [],
   "source": [
    "import numpy as np"
   ]
  },
  {
   "cell_type": "code",
   "execution_count": 2,
   "metadata": {},
   "outputs": [
    {
     "name": "stdout",
     "output_type": "stream",
     "text": [
      "Step1's conclusion:\n",
      " [[-3  2 -1]\n",
      " [ 0 -2  5]\n",
      " [ 0  0 -2]] \n",
      "\n",
      "L:\n",
      "[[ 1  0  0]\n",
      " [-2  1  0]\n",
      " [-1  1  1]]\n",
      "U:\n",
      "[[-3  2 -1]\n",
      " [ 0 -2  5]\n",
      " [ 0  0 -2]]\n"
     ]
    }
   ],
   "source": [
    "A = np.array(([-3, 2, -1], [6, -6, 7], [3, -4, 4]), int)\n",
    "Ab = np.array(A, copy=True)\n",
    "m,n=Ab.shape  \n",
    "#step1:G.E. to upper triangular matrix to get U!  \n",
    "for i in range(0, n):\n",
    "    for k in range(i+1, n):\n",
    "        Ab[k][i:n] = Ab[k][i:n] - (Ab[i][i:n] * (Ab[k][i] / Ab[i][i]))\n",
    "        #print(i, k, Ab[k][i:n+1], Ab[i][i:n+1], Ab[k][i], Ab[i][i], '\\n')\n",
    "        \n",
    "print(\"Step1's conclusion:\\n\", Ab, '\\n')\n",
    "\n",
    "#step2:get L!\n",
    "L=np.zeros((3,3),int)\n",
    "for i in range(0,n):\n",
    "    for j in range (0,i+1):   \n",
    "        L[i,j]=(A[i,j]-L[i].dot(Ab[:,j]))/Ab[j,j]   \n",
    "#【Answer】\n",
    "print(\"L:\")\n",
    "print(L)\n",
    "print(\"U:\")\n",
    "print(Ab)\n",
    "#print('Step2 to Answer:\\nx =', x)"
   ]
  },
  {
   "cell_type": "code",
   "execution_count": 3,
   "metadata": {},
   "outputs": [
    {
     "name": "stdout",
     "output_type": "stream",
     "text": [
      "(3, 3)\n",
      "The Ux=y is :\n",
      " [[ 1.  0.  0.]\n",
      " [ 2.  1.  0.]\n",
      " [-1. -1.  1.]]\n",
      "The inverse of A is\n",
      " [[-0.33333333  0.33333333 -0.66666667]\n",
      " [ 0.25        0.75       -1.25      ]\n",
      " [ 0.5         0.5        -0.5       ]]\n"
     ]
    }
   ],
   "source": [
    "#AA.inverse =I\n",
    "#Ly=b=Identity matrix to solve y, b: identity matrix\n",
    "#Ux=y to solve x ,x: inverse of A\n",
    "I=np.identity(3)#b,identity matrix\n",
    "Ai=np.zeros((3,3))#Ai is the y\n",
    "A1=np.zeros((3,3))#A1 is the x\n",
    "m,n=Ai.shape\n",
    "\n",
    "print(Ai.shape)\n",
    "#solve Ly=b ,Ai is y \n",
    "for j in range(0,n):\n",
    "    for i  in range (0,n):\n",
    "        Ai[i,j] = (I[i,j] - np.dot(L[i],Ai[:,j])) / L[i,i]\n",
    "#solve Ux=y,A1 is x\n",
    "for j in range(0,n):\n",
    "    for i  in range (n-1,-1,-1):\n",
    "        A1[i,j] = (Ai[i,j] - np.dot(Ab[i,i+1:n],A1[i+1:n,j])) / Ab[i,i]\n",
    "print(\"The Ux=y is :\\n\",Ai)\n",
    "print(\"The inverse of A is\\n\",A1)"
   ]
  }
 ],
 "metadata": {
  "kernelspec": {
   "display_name": "Python 3.10.4 ('py')",
   "language": "python",
   "name": "python3"
  },
  "language_info": {
   "codemirror_mode": {
    "name": "ipython",
    "version": 3
   },
   "file_extension": ".py",
   "mimetype": "text/x-python",
   "name": "python",
   "nbconvert_exporter": "python",
   "pygments_lexer": "ipython3",
   "version": "3.10.4 | packaged by conda-forge | (main, Mar 30 2022, 08:38:02) [MSC v.1916 64 bit (AMD64)]"
  },
  "orig_nbformat": 4,
  "vscode": {
   "interpreter": {
    "hash": "22216b08ebab8be3394fec349c00ce696f41ecd13338106d20d108b8649c16c1"
   }
  }
 },
 "nbformat": 4,
 "nbformat_minor": 2
}
